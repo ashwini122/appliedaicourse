{
 "cells": [
  {
   "cell_type": "code",
   "execution_count": 40,
   "metadata": {},
   "outputs": [
    {
     "name": "stdout",
     "output_type": "stream",
     "text": [
      "The autoreload extension is already loaded. To reload it, use:\n",
      "  %reload_ext autoreload\n"
     ]
    }
   ],
   "source": [
    "# setting up the connection string\n",
    "%load_ext autoreload\n",
    "%autoreload 2\n",
    "import os\n",
    "import sys\n",
    "sys.path.append('../')\n",
    "import pyodbc\n",
    "import pandas as pd\n",
    "from src.ingest.upload import UploadDataToSql, UploadDataToBlob\n",
    "\n",
    "server = 'appliedai.database.windows.net'\n",
    "database = 'olist'\n",
    "username = 'santoshgsk'\n",
    "password = 'santosh$123'\n",
    "driver= '{ODBC Driver 17 for SQL Server}'\n",
    "\n",
    "account_name = 'santoshgsk'\n",
    "account_key = '+j79npiEz7tb12Y0pkjrYJzu7pSSXqunfwNkcRqwI7P+Zx4tBqCKYIYkaUizR7Fcfd/5mlgmwNrkrGuShfAtTw=='\n",
    "connection_str = 'DefaultEndpointsProtocol=https;AccountName=santoshgsk;AccountKey=+j79npiEz7tb12Y0pkjrYJzu7pSSXqunfwNkcRqwI7P+Zx4tBqCKYIYkaUizR7Fcfd/5mlgmwNrkrGuShfAtTw==;EndpointSuffix=core.windows.net'\n",
    "container_name = 'olist-files'\n",
    "\n",
    "storage_sas_token = 'sv=2019-02-02&ss=bfqt&srt=sco&sp=rwdlacup&se=2021-02-19T12:28:42Z&st=2020-01-03T04:28:42Z&spr=https&sig=eOucV7eqBJPTjml5PLGMvNw0MAmhs86cKraxLvVqLRg%3D'\n",
    "blob_url = 'https://santoshgsk.blob.core.windows.net/olist-files'\n",
    "\n",
    "data_folder = '/app/datasets/brazilian-ecommerce/'\n",
    "\n",
    "data_to_sql = UploadDataToSql(server, database, username, password, driver)\n",
    "blob_upload = UploadDataToBlob(connection_str, account_name, account_key, container_name)"
   ]
  },
  {
   "cell_type": "code",
   "execution_count": 146,
   "metadata": {},
   "outputs": [],
   "source": [
    "# upload to blob\n",
    "for filename in os.listdir(data_folder):\n",
    "    blob_upload.upload_blob(filename, data_folder + filename)"
   ]
  },
  {
   "cell_type": "code",
   "execution_count": 41,
   "metadata": {},
   "outputs": [
    {
     "data": {
      "text/plain": [
       "'The BLOB source is already created! \\n            In order to change it call <your_upload_sql_object>.BLOB_SOURCE = <new_name>'"
      ]
     },
     "execution_count": 41,
     "metadata": {},
     "output_type": "execute_result"
    }
   ],
   "source": [
    "data_to_sql.create_blob_source(storage_sas_token, blob_url)"
   ]
  },
  {
   "cell_type": "code",
   "execution_count": 43,
   "metadata": {},
   "outputs": [
    {
     "name": "stdout",
     "output_type": "stream",
     "text": [
      "table_name olist_sellers\n",
      "sql  IF NOT EXISTS (select * \n",
      "            from information_schema.tables where table_type='base table'\n",
      "            and table_catalog='olist' and table_name='olist_sellers')\n",
      "            BEGIN CREATE TABLE olist_sellers (seller_id VARCHAR(2000),seller_zip_code_prefix INT,seller_city VARCHAR(2000),seller_state VARCHAR(2000),) END\n",
      "table_name product_category_name_translation\n",
      "sql  IF NOT EXISTS (select * \n",
      "            from information_schema.tables where table_type='base table'\n",
      "            and table_catalog='olist' and table_name='product_category_name_translation')\n",
      "            BEGIN CREATE TABLE product_category_name_translation (product_category_name VARCHAR(2000),product_category_name_english VARCHAR(2000),) END\n",
      "table_name olist_orders\n",
      "sql  IF NOT EXISTS (select * \n",
      "            from information_schema.tables where table_type='base table'\n",
      "            and table_catalog='olist' and table_name='olist_orders')\n",
      "            BEGIN CREATE TABLE olist_orders (order_id VARCHAR(2000),customer_id VARCHAR(2000),order_status VARCHAR(2000),order_purchase_timestamp DATETIME2,order_approved_at DATETIME2,order_delivered_carrier_date DATETIME2,order_delivered_customer_date DATETIME2,order_estimated_delivery_date DATETIME2,) END\n",
      "table_name olist_order_items\n",
      "sql  IF NOT EXISTS (select * \n",
      "            from information_schema.tables where table_type='base table'\n",
      "            and table_catalog='olist' and table_name='olist_order_items')\n",
      "            BEGIN CREATE TABLE olist_order_items (order_id VARCHAR(2000),order_item_id INT,product_id VARCHAR(2000),seller_id VARCHAR(2000),shipping_limit_date DATETIME2,price VARCHAR(2000),freight_value VARCHAR(2000),) END\n",
      "table_name olist_geolocation\n",
      "sql  IF NOT EXISTS (select * \n",
      "            from information_schema.tables where table_type='base table'\n",
      "            and table_catalog='olist' and table_name='olist_geolocation')\n",
      "            BEGIN CREATE TABLE olist_geolocation (geolocation_zip_code_prefix INT,geolocation_lat VARCHAR(2000),geolocation_lng VARCHAR(2000),geolocation_city VARCHAR(2000),geolocation_state VARCHAR(2000),) END\n",
      "table_name olist_order_payments\n",
      "sql  IF NOT EXISTS (select * \n",
      "            from information_schema.tables where table_type='base table'\n",
      "            and table_catalog='olist' and table_name='olist_order_payments')\n",
      "            BEGIN CREATE TABLE olist_order_payments (order_id VARCHAR(2000),payment_sequential INT,payment_type VARCHAR(2000),payment_installments INT,payment_value VARCHAR(2000),) END\n",
      "table_name olist_order_reviews\n",
      "sql  IF NOT EXISTS (select * \n",
      "            from information_schema.tables where table_type='base table'\n",
      "            and table_catalog='olist' and table_name='olist_order_reviews')\n",
      "            BEGIN CREATE TABLE olist_order_reviews (review_id VARCHAR(2000),order_id VARCHAR(2000),review_score INT,review_comment_title VARCHAR(2000),review_comment_message VARCHAR(2000),review_creation_date DATETIME2,review_answer_timestamp DATETIME2,) END\n",
      "table_name olist_products\n",
      "sql  IF NOT EXISTS (select * \n",
      "            from information_schema.tables where table_type='base table'\n",
      "            and table_catalog='olist' and table_name='olist_products')\n",
      "            BEGIN CREATE TABLE olist_products (product_id VARCHAR(2000),product_category_name VARCHAR(2000),product_name_lenght FLOAT,product_description_lenght FLOAT,product_photos_qty FLOAT,product_weight_g FLOAT,product_length_cm FLOAT,product_height_cm FLOAT,product_width_cm FLOAT,) END\n"
     ]
    }
   ],
   "source": [
    "# create tables\n",
    "for f in os.listdir(data_folder):\n",
    "    data_to_sql.upload_csv_to_database(data_folder + f, f)"
   ]
  },
  {
   "cell_type": "code",
   "execution_count": null,
   "metadata": {},
   "outputs": [],
   "source": []
  }
 ],
 "metadata": {
  "kernelspec": {
   "display_name": "Python 3",
   "language": "python",
   "name": "python3"
  },
  "language_info": {
   "codemirror_mode": {
    "name": "ipython",
    "version": 3
   },
   "file_extension": ".py",
   "mimetype": "text/x-python",
   "name": "python",
   "nbconvert_exporter": "python",
   "pygments_lexer": "ipython3",
   "version": "3.7.3"
  }
 },
 "nbformat": 4,
 "nbformat_minor": 2
}
