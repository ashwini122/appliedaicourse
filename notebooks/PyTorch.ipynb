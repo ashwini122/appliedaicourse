{
 "cells": [
  {
   "cell_type": "code",
   "execution_count": 59,
   "metadata": {},
   "outputs": [],
   "source": [
    "import torch\n",
    "import numpy as np\n",
    "from IPython.display import Image\n",
    "from IPython.core.display import HTML "
   ]
  },
  {
   "cell_type": "markdown",
   "metadata": {},
   "source": [
    "## What is PyTorch?\n",
    "- A python library to operate on Tensors as a replacement over Numpy \n",
    "- A Deep Learning library that provides easy of use and flexibility for researchers and practitioners"
   ]
  },
  {
   "cell_type": "markdown",
   "metadata": {},
   "source": [
    "## 1. Create new tensors"
   ]
  },
  {
   "cell_type": "markdown",
   "metadata": {},
   "source": [
    "### 1.1 Empty Tensor"
   ]
  },
  {
   "cell_type": "code",
   "execution_count": 4,
   "metadata": {},
   "outputs": [
    {
     "data": {
      "text/plain": [
       "tensor([[2.9159e+38, 4.5615e-41, 2.9159e+38, 4.5615e-41],\n",
       "        [0.0000e+00, 0.0000e+00, 5.9819e+19, 4.5615e-41],\n",
       "        [0.0000e+00, 0.0000e+00, 4.9615e+19, 4.5615e-41],\n",
       "        [0.0000e+00, 0.0000e+00,        nan, 3.3460e-12],\n",
       "        [1.4013e-45, 0.0000e+00, 4.9518e+28, 7.9463e+08]])"
      ]
     },
     "execution_count": 4,
     "metadata": {},
     "output_type": "execute_result"
    }
   ],
   "source": [
    "torch.empty(5, 4) #the values are close to zero"
   ]
  },
  {
   "cell_type": "markdown",
   "metadata": {},
   "source": [
    "### 1.2 Random Tensor"
   ]
  },
  {
   "cell_type": "code",
   "execution_count": 11,
   "metadata": {},
   "outputs": [
    {
     "data": {
      "text/plain": [
       "tensor([[ 0.2900, -1.8238,  0.0839, -0.5769]])"
      ]
     },
     "execution_count": 11,
     "metadata": {},
     "output_type": "execute_result"
    }
   ],
   "source": [
    "torch.randn(1, 4) # generates random values"
   ]
  },
  {
   "cell_type": "markdown",
   "metadata": {},
   "source": [
    "### 1.3 Zero Tensor"
   ]
  },
  {
   "cell_type": "code",
   "execution_count": 10,
   "metadata": {},
   "outputs": [
    {
     "data": {
      "text/plain": [
       "tensor([[0., 0., 0.],\n",
       "        [0., 0., 0.],\n",
       "        [0., 0., 0.]])"
      ]
     },
     "execution_count": 10,
     "metadata": {},
     "output_type": "execute_result"
    }
   ],
   "source": [
    "torch.zeros(3, 3)"
   ]
  },
  {
   "cell_type": "markdown",
   "metadata": {},
   "source": [
    "### 1.4 From a list"
   ]
  },
  {
   "cell_type": "code",
   "execution_count": 19,
   "metadata": {},
   "outputs": [],
   "source": [
    "x = torch.tensor([[2.3, 4], [1.2, -0.3]])"
   ]
  },
  {
   "cell_type": "code",
   "execution_count": 20,
   "metadata": {},
   "outputs": [
    {
     "data": {
      "text/plain": [
       "tensor([[ 2.3000,  4.0000],\n",
       "        [ 1.2000, -0.3000]])"
      ]
     },
     "execution_count": 20,
     "metadata": {},
     "output_type": "execute_result"
    }
   ],
   "source": [
    "x"
   ]
  },
  {
   "cell_type": "markdown",
   "metadata": {},
   "source": [
    "### 1.5 From an existing tensor"
   ]
  },
  {
   "cell_type": "code",
   "execution_count": 58,
   "metadata": {},
   "outputs": [
    {
     "data": {
      "text/plain": [
       "tensor([[-1.7953, -0.1728],\n",
       "        [-0.2738, -0.2925]])"
      ]
     },
     "execution_count": 58,
     "metadata": {},
     "output_type": "execute_result"
    }
   ],
   "source": [
    "# rand - random positive\n",
    "# randn - random positive and negative\n",
    "torch.randn_like(x)\n",
    "# torch.ones_like(x)\n",
    "# torch.zeros_like(x)"
   ]
  },
  {
   "cell_type": "markdown",
   "metadata": {},
   "source": [
    "### 1.6 From numpy array"
   ]
  },
  {
   "cell_type": "code",
   "execution_count": 61,
   "metadata": {},
   "outputs": [
    {
     "data": {
      "text/plain": [
       "tensor([[ 1.0000,  2.0000],\n",
       "        [ 0.3000, -1.2000]], dtype=torch.float64)"
      ]
     },
     "execution_count": 61,
     "metadata": {},
     "output_type": "execute_result"
    }
   ],
   "source": [
    "n = np.array([[1, 2], [0.3, -1.2]])\n",
    "\n",
    "torch.from_numpy(n)"
   ]
  },
  {
   "cell_type": "markdown",
   "metadata": {},
   "source": [
    "## 2. Slicing Tensors\n",
    "\n",
    "If you are already familiar with numpy, you can skip this section"
   ]
  },
  {
   "cell_type": "code",
   "execution_count": 72,
   "metadata": {},
   "outputs": [],
   "source": [
    "x = torch.randn(3, 4, 5)"
   ]
  },
  {
   "cell_type": "code",
   "execution_count": 73,
   "metadata": {},
   "outputs": [
    {
     "data": {
      "text/plain": [
       "tensor([[[ 1.1930, -0.3808, -0.8907, -1.7130,  0.1500],\n",
       "         [-0.3511, -1.1963,  0.3327, -1.1608, -0.4557],\n",
       "         [ 1.9224, -0.9547,  0.5528,  2.0848,  0.9394],\n",
       "         [-0.7937,  0.4034, -0.3482, -0.2343,  0.3509]],\n",
       "\n",
       "        [[-0.6110, -0.4482, -1.2750, -0.4663,  0.2621],\n",
       "         [ 0.2856, -1.0831,  0.9597,  0.5971, -1.4496],\n",
       "         [-0.7251,  0.8108, -0.1436, -0.5671,  0.5719],\n",
       "         [-0.8660, -1.1224,  0.2852,  0.2463, -0.9215]],\n",
       "\n",
       "        [[-0.2689,  0.7704,  1.1415,  0.7557, -0.4813],\n",
       "         [-0.2387,  2.9216, -0.1847,  0.9027,  1.1900],\n",
       "         [ 1.5327,  0.3733, -0.9201,  0.6989,  0.0082],\n",
       "         [ 0.1920,  1.0249,  0.6636,  1.1873,  0.1856]]])"
      ]
     },
     "execution_count": 73,
     "metadata": {},
     "output_type": "execute_result"
    }
   ],
   "source": [
    "x"
   ]
  },
  {
   "cell_type": "markdown",
   "metadata": {},
   "source": [
    "### 2.1 Know the size"
   ]
  },
  {
   "cell_type": "code",
   "execution_count": 74,
   "metadata": {},
   "outputs": [
    {
     "data": {
      "text/plain": [
       "torch.Size([3, 4, 5])"
      ]
     },
     "execution_count": 74,
     "metadata": {},
     "output_type": "execute_result"
    }
   ],
   "source": [
    "x.size()"
   ]
  },
  {
   "cell_type": "markdown",
   "metadata": {},
   "source": [
    "### 2.2 Access with numpy style slicing"
   ]
  },
  {
   "cell_type": "code",
   "execution_count": 75,
   "metadata": {},
   "outputs": [
    {
     "data": {
      "text/plain": [
       "tensor([[-0.3511, -1.1963,  0.3327, -1.1608, -0.4557],\n",
       "        [ 0.2856, -1.0831,  0.9597,  0.5971, -1.4496],\n",
       "        [-0.2387,  2.9216, -0.1847,  0.9027,  1.1900]])"
      ]
     },
     "execution_count": 75,
     "metadata": {},
     "output_type": "execute_result"
    }
   ],
   "source": [
    "# identify the dimension you want to access [3, 4, 5]\n",
    "\n",
    "# if you want all elements from first dimension, 2nd element from 2nd dimension, all elements from 3rd dimension\n",
    "x[:, 1, :]"
   ]
  },
  {
   "cell_type": "code",
   "execution_count": 76,
   "metadata": {},
   "outputs": [
    {
     "data": {
      "text/plain": [
       "tensor([-0.3511, -1.1963,  0.3327, -1.1608, -0.4557])"
      ]
     },
     "execution_count": 76,
     "metadata": {},
     "output_type": "execute_result"
    }
   ],
   "source": [
    "# if you want 1st element from first dimension, 2nd element from 2nd dimension, all elements from 3rd dimension\n",
    "x[0, 1, :]"
   ]
  },
  {
   "cell_type": "code",
   "execution_count": 77,
   "metadata": {},
   "outputs": [
    {
     "data": {
      "text/plain": [
       "tensor([[-1.7130, -1.1608,  2.0848],\n",
       "        [-0.4663,  0.5971, -0.5671]])"
      ]
     },
     "execution_count": 77,
     "metadata": {},
     "output_type": "execute_result"
    }
   ],
   "source": [
    "# if you want first two elements from first dimension, \n",
    "# first 3 elements from 2nd dimension and \n",
    "# only 4th element from 3rd dimension\n",
    "x[:2, :3, 3]"
   ]
  },
  {
   "cell_type": "markdown",
   "metadata": {},
   "source": [
    "## 3. Tensor Transform"
   ]
  },
  {
   "cell_type": "markdown",
   "metadata": {},
   "source": [
    "### 3.1 Resize"
   ]
  },
  {
   "cell_type": "code",
   "execution_count": 78,
   "metadata": {},
   "outputs": [
    {
     "data": {
      "text/plain": [
       "torch.Size([3, 4, 5])"
      ]
     },
     "execution_count": 78,
     "metadata": {},
     "output_type": "execute_result"
    }
   ],
   "source": [
    "x.size()"
   ]
  },
  {
   "cell_type": "code",
   "execution_count": 79,
   "metadata": {},
   "outputs": [
    {
     "data": {
      "text/plain": [
       "tensor([[ 1.1930, -0.3808, -0.8907, -1.7130,  0.1500],\n",
       "        [-0.3511, -1.1963,  0.3327, -1.1608, -0.4557],\n",
       "        [ 1.9224, -0.9547,  0.5528,  2.0848,  0.9394],\n",
       "        [-0.7937,  0.4034, -0.3482, -0.2343,  0.3509],\n",
       "        [-0.6110, -0.4482, -1.2750, -0.4663,  0.2621],\n",
       "        [ 0.2856, -1.0831,  0.9597,  0.5971, -1.4496],\n",
       "        [-0.7251,  0.8108, -0.1436, -0.5671,  0.5719],\n",
       "        [-0.8660, -1.1224,  0.2852,  0.2463, -0.9215],\n",
       "        [-0.2689,  0.7704,  1.1415,  0.7557, -0.4813],\n",
       "        [-0.2387,  2.9216, -0.1847,  0.9027,  1.1900],\n",
       "        [ 1.5327,  0.3733, -0.9201,  0.6989,  0.0082],\n",
       "        [ 0.1920,  1.0249,  0.6636,  1.1873,  0.1856]])"
      ]
     },
     "execution_count": 79,
     "metadata": {},
     "output_type": "execute_result"
    }
   ],
   "source": [
    "x.view(12, 5)\n",
    "# x.view(3, 20)\n",
    "# x.view(4, 15)\n",
    "# x.view(60)"
   ]
  },
  {
   "cell_type": "markdown",
   "metadata": {},
   "source": [
    "### 3.1 Add a new dimension"
   ]
  },
  {
   "cell_type": "code",
   "execution_count": 86,
   "metadata": {},
   "outputs": [
    {
     "data": {
      "text/plain": [
       "torch.Size([3, 4, 1, 5])"
      ]
     },
     "execution_count": 86,
     "metadata": {},
     "output_type": "execute_result"
    }
   ],
   "source": [
    "# only one dimension can be added\n",
    "x.view(3, 4, -1, 5).size()\n",
    "# x.view(3, 4, 5, -1).size()\n",
    "# x.view(-1, 3, 4, 5).size()"
   ]
  },
  {
   "cell_type": "markdown",
   "metadata": {},
   "source": [
    "## 4. Operations"
   ]
  },
  {
   "cell_type": "markdown",
   "metadata": {},
   "source": [
    "### 4.1 Addition"
   ]
  },
  {
   "cell_type": "code",
   "execution_count": 88,
   "metadata": {},
   "outputs": [],
   "source": [
    "x = torch.rand(3, 4)\n",
    "y = torch.rand(3, 4)"
   ]
  },
  {
   "cell_type": "code",
   "execution_count": 91,
   "metadata": {},
   "outputs": [
    {
     "data": {
      "text/plain": [
       "tensor([[1.3400, 0.6052, 0.7668, 1.6158],\n",
       "        [0.7968, 0.2113, 1.1010, 0.6425],\n",
       "        [1.0882, 0.6075, 0.8668, 1.0942]])"
      ]
     },
     "execution_count": 91,
     "metadata": {},
     "output_type": "execute_result"
    }
   ],
   "source": [
    "x + y"
   ]
  },
  {
   "cell_type": "code",
   "execution_count": 92,
   "metadata": {},
   "outputs": [
    {
     "data": {
      "text/plain": [
       "tensor([[1.3400, 0.6052, 0.7668, 1.6158],\n",
       "        [0.7968, 0.2113, 1.1010, 0.6425],\n",
       "        [1.0882, 0.6075, 0.8668, 1.0942]])"
      ]
     },
     "execution_count": 92,
     "metadata": {},
     "output_type": "execute_result"
    }
   ],
   "source": [
    "x.add(y)"
   ]
  },
  {
   "cell_type": "code",
   "execution_count": 93,
   "metadata": {},
   "outputs": [
    {
     "data": {
      "text/plain": [
       "tensor([[1.3400, 0.6052, 0.7668, 1.6158],\n",
       "        [0.7968, 0.2113, 1.1010, 0.6425],\n",
       "        [1.0882, 0.6075, 0.8668, 1.0942]])"
      ]
     },
     "execution_count": 93,
     "metadata": {},
     "output_type": "execute_result"
    }
   ],
   "source": [
    "# inplace\n",
    "x.add_(y)"
   ]
  },
  {
   "cell_type": "code",
   "execution_count": 94,
   "metadata": {},
   "outputs": [
    {
     "data": {
      "text/plain": [
       "tensor([[1.3400, 0.6052, 0.7668, 1.6158],\n",
       "        [0.7968, 0.2113, 1.1010, 0.6425],\n",
       "        [1.0882, 0.6075, 0.8668, 1.0942]])"
      ]
     },
     "execution_count": 94,
     "metadata": {},
     "output_type": "execute_result"
    }
   ],
   "source": [
    "x"
   ]
  },
  {
   "cell_type": "code",
   "execution_count": 95,
   "metadata": {},
   "outputs": [
    {
     "data": {
      "text/plain": [
       "tensor([[1.9126, 0.8663, 0.9828, 2.3942],\n",
       "        [1.0305, 0.3241, 1.7627, 1.1404],\n",
       "        [1.9983, 0.9439, 1.1492, 1.5844]])"
      ]
     },
     "execution_count": 95,
     "metadata": {},
     "output_type": "execute_result"
    }
   ],
   "source": [
    "torch.add(x, y)"
   ]
  },
  {
   "cell_type": "code",
   "execution_count": 98,
   "metadata": {},
   "outputs": [
    {
     "data": {
      "text/plain": [
       "tensor([[0.7674, 0.3441, 0.5507, 0.8373],\n",
       "        [0.5630, 0.0985, 0.4394, 0.1447],\n",
       "        [0.1781, 0.2711, 0.5844, 0.6040]])"
      ]
     },
     "execution_count": 98,
     "metadata": {},
     "output_type": "execute_result"
    }
   ],
   "source": [
    "# torch.mul(x, y)\n",
    "# torch.div(x, y)\n",
    "torch.sub(x, y)"
   ]
  },
  {
   "cell_type": "markdown",
   "metadata": {},
   "source": [
    "### More such operations can be found here https://pytorch.org/docs/stable/torch.html"
   ]
  },
  {
   "cell_type": "markdown",
   "metadata": {},
   "source": [
    "## 5. Autograd"
   ]
  },
  {
   "cell_type": "markdown",
   "metadata": {},
   "source": [
    "- Automatic differentiation on all tensor operations provided as part of the library\n",
    "- Operates on tensor\n",
    "- When creating a tensor set .requires_grad to True"
   ]
  },
  {
   "cell_type": "markdown",
   "metadata": {},
   "source": [
    "\\begin{align}\n",
    "x & = \\begin{bmatrix}{x}_1\\\\\n",
    "{x}_2 \\\\ \n",
    "..\n",
    "\\\\\n",
    "{x}_n\n",
    "\\end{bmatrix} \\\\ \\\\\n",
    "f(x) & = \\sum_{n}  3 * (x+2)^2 \\\\ \\\\\n",
    "\\frac{d f}{dx} & = \\begin{bmatrix}\n",
    "6({x}_1 + 2) \\\\\n",
    "6({x}_2 + 2) \\\\\n",
    ".. \\\\\n",
    "6({x}_n + 2)\n",
    "\\end{bmatrix}\\\\\n",
    "\\end{align}"
   ]
  },
  {
   "cell_type": "markdown",
   "metadata": {},
   "source": [
    "### 5.1 Set requires_grad as True"
   ]
  },
  {
   "cell_type": "code",
   "execution_count": 109,
   "metadata": {},
   "outputs": [
    {
     "data": {
      "text/plain": [
       "tensor([1., 1., 1., 1., 1., 1., 1., 1., 1., 1.], requires_grad=True)"
      ]
     },
     "execution_count": 109,
     "metadata": {},
     "output_type": "execute_result"
    }
   ],
   "source": [
    "x = torch.ones(10, requires_grad=True)\n",
    "x"
   ]
  },
  {
   "cell_type": "markdown",
   "metadata": {},
   "source": [
    "### 5.2 Perform Operations on the tensor"
   ]
  },
  {
   "cell_type": "code",
   "execution_count": 110,
   "metadata": {},
   "outputs": [],
   "source": [
    "y = x+2\n",
    "z = 3 * y * y\n",
    "out = sum(z)"
   ]
  },
  {
   "cell_type": "code",
   "execution_count": 111,
   "metadata": {},
   "outputs": [
    {
     "data": {
      "text/plain": [
       "tensor(270., grad_fn=<AddBackward0>)"
      ]
     },
     "execution_count": 111,
     "metadata": {},
     "output_type": "execute_result"
    }
   ],
   "source": [
    "out"
   ]
  },
  {
   "cell_type": "markdown",
   "metadata": {},
   "source": [
    "### 5.3 Perform backward operation to calculate gradients"
   ]
  },
  {
   "cell_type": "code",
   "execution_count": 112,
   "metadata": {},
   "outputs": [],
   "source": [
    "out.backward()"
   ]
  },
  {
   "cell_type": "markdown",
   "metadata": {},
   "source": [
    "### 5.4 Check gradients"
   ]
  },
  {
   "cell_type": "code",
   "execution_count": 113,
   "metadata": {},
   "outputs": [
    {
     "data": {
      "text/plain": [
       "tensor([18., 18., 18., 18., 18., 18., 18., 18., 18., 18.])"
      ]
     },
     "execution_count": 113,
     "metadata": {},
     "output_type": "execute_result"
    }
   ],
   "source": [
    "x.grad"
   ]
  },
  {
   "cell_type": "markdown",
   "metadata": {},
   "source": [
    "### 5.5 Stop tracking operations"
   ]
  },
  {
   "cell_type": "code",
   "execution_count": null,
   "metadata": {},
   "outputs": [],
   "source": [
    "x.detach()\n",
    "# with torch.no_grad():\n",
    "#      perform operations"
   ]
  },
  {
   "cell_type": "markdown",
   "metadata": {},
   "source": [
    "### 5.6 Convert to Scalar"
   ]
  },
  {
   "cell_type": "code",
   "execution_count": 122,
   "metadata": {},
   "outputs": [
    {
     "data": {
      "text/plain": [
       "tensor([3., 3., 3., 3., 3., 3., 3., 3., 3., 3.], grad_fn=<AddBackward0>)"
      ]
     },
     "execution_count": 122,
     "metadata": {},
     "output_type": "execute_result"
    }
   ],
   "source": [
    "y # needs a scalar to compute gradients"
   ]
  },
  {
   "cell_type": "code",
   "execution_count": 131,
   "metadata": {},
   "outputs": [
    {
     "data": {
      "text/html": [
       "<img src=\"../Jacobian.jpg\"/>"
      ],
      "text/plain": [
       "<IPython.core.display.Image object>"
      ]
     },
     "execution_count": 131,
     "metadata": {},
     "output_type": "execute_result"
    }
   ],
   "source": [
    "Image(url= \"../Jacobian.jpg\")"
   ]
  },
  {
   "cell_type": "code",
   "execution_count": 133,
   "metadata": {},
   "outputs": [
    {
     "data": {
      "text/html": [
       "<img src=\"../Jacobian-vector.jpg\"/>"
      ],
      "text/plain": [
       "<IPython.core.display.Image object>"
      ]
     },
     "execution_count": 133,
     "metadata": {},
     "output_type": "execute_result"
    }
   ],
   "source": [
    "Image(url = \"../Jacobian-vector.jpg\")"
   ]
  },
  {
   "cell_type": "code",
   "execution_count": 119,
   "metadata": {},
   "outputs": [],
   "source": [
    "y.backward(torch.ones(10))"
   ]
  }
 ],
 "metadata": {
  "kernelspec": {
   "display_name": "Python 3",
   "language": "python",
   "name": "python3"
  },
  "language_info": {
   "codemirror_mode": {
    "name": "ipython",
    "version": 3
   },
   "file_extension": ".py",
   "mimetype": "text/x-python",
   "name": "python",
   "nbconvert_exporter": "python",
   "pygments_lexer": "ipython3",
   "version": "3.7.3"
  }
 },
 "nbformat": 4,
 "nbformat_minor": 2
}
