{
 "cells": [
  {
   "cell_type": "code",
   "execution_count": 3,
   "metadata": {},
   "outputs": [],
   "source": [
    "import pyodbc\n",
    "\n",
    "server = 'appliedai.database.windows.net'\n",
    "database = 'olist'\n",
    "username = 'santoshgsk'\n",
    "password = 'santosh$123'\n",
    "driver= '{ODBC Driver 17 for SQL Server}'\n"
   ]
  },
  {
   "cell_type": "code",
   "execution_count": 4,
   "metadata": {},
   "outputs": [],
   "source": [
    "cnxn = pyodbc.connect('DRIVER='+driver+';PORT=1433;SERVER='+server+';PORT=1443;DATABASE='+database+';UID='+username+';PWD='+ password)\n",
    "cursor = cnxn.cursor()"
   ]
  },
  {
   "cell_type": "code",
   "execution_count": 5,
   "metadata": {},
   "outputs": [
    {
     "data": {
      "text/plain": [
       "<pyodbc.Cursor at 0x7f3350243f30>"
      ]
     },
     "execution_count": 5,
     "metadata": {},
     "output_type": "execute_result"
    }
   ],
   "source": [
    "cursor.execute('''select schema_name(t.schema_id) as schema_name,\n",
    "       t.name as table_name,\n",
    "       t.create_date,\n",
    "       t.modify_date\n",
    "from sys.tables t\n",
    "order by schema_name,\n",
    "         table_name;''')"
   ]
  },
  {
   "cell_type": "code",
   "execution_count": 6,
   "metadata": {},
   "outputs": [
    {
     "data": {
      "text/plain": [
       "[]"
      ]
     },
     "execution_count": 6,
     "metadata": {},
     "output_type": "execute_result"
    }
   ],
   "source": [
    "cursor.fetchall()"
   ]
  },
  {
   "cell_type": "code",
   "execution_count": 2,
   "metadata": {},
   "outputs": [
    {
     "name": "stdout",
     "output_type": "stream",
     "text": [
      "pyodbc==4.0.28\r\n"
     ]
    }
   ],
   "source": [
    "!pip freeze | grep pyodbc"
   ]
  },
  {
   "cell_type": "code",
   "execution_count": 16,
   "metadata": {},
   "outputs": [
    {
     "name": "stdout",
     "output_type": "stream",
     "text": [
      "Collecting azure-storage-blob==0.37.1\n",
      "\u001b[?25l  Downloading https://files.pythonhosted.org/packages/13/0f/29d641916e7c402fe95999bb3945c9c6088c07f15ff7485ebbe35109b5a8/azure_storage_blob-0.37.1-py2.py3-none-any.whl (77kB)\n",
      "\u001b[K     |████████████████████████████████| 81kB 887kB/s eta 0:00:01\n",
      "\u001b[?25hRequirement already satisfied: azure-common>=1.1.5 in /opt/conda/lib/python3.7/site-packages (from azure-storage-blob==0.37.1) (1.1.23)\n",
      "Requirement already satisfied: requests in /opt/conda/lib/python3.7/site-packages (from azure-storage-blob==0.37.1) (2.22.0)\n",
      "Requirement already satisfied: python-dateutil in /opt/conda/lib/python3.7/site-packages (from azure-storage-blob==0.37.1) (2.8.1)\n",
      "Requirement already satisfied: cryptography in /opt/conda/lib/python3.7/site-packages (from azure-storage-blob==0.37.1) (2.8)\n",
      "Collecting azure-storage-common<0.38.0,>=0.37.1\n",
      "\u001b[?25l  Downloading https://files.pythonhosted.org/packages/40/0f/c6168ba0f633946a2d4e2cffd5310b1f53db52797d75291d545787400d68/azure_storage_common-0.37.1-py2.py3-none-any.whl (49kB)\n",
      "\u001b[K     |████████████████████████████████| 51kB 3.4MB/s eta 0:00:01\n",
      "\u001b[?25hCollecting azure-storage-nspkg>=2.0.0\n",
      "  Downloading https://files.pythonhosted.org/packages/ba/f6/054ace7b01c6c21b3b95a83c3997f7d6539d939a2c08c4f27f779128a030/azure_storage_nspkg-3.1.0-py2.py3-none-any.whl\n",
      "Collecting futures\n",
      "  Downloading https://files.pythonhosted.org/packages/05/80/f41cca0ea1ff69bce7e7a7d76182b47bb4e1a494380a532af3e8ee70b9ec/futures-3.1.1-py3-none-any.whl\n",
      "Requirement already satisfied: urllib3!=1.25.0,!=1.25.1,<1.26,>=1.21.1 in /opt/conda/lib/python3.7/site-packages (from requests->azure-storage-blob==0.37.1) (1.25.7)\n",
      "Requirement already satisfied: chardet<3.1.0,>=3.0.2 in /opt/conda/lib/python3.7/site-packages (from requests->azure-storage-blob==0.37.1) (3.0.4)\n",
      "Requirement already satisfied: idna<2.9,>=2.5 in /opt/conda/lib/python3.7/site-packages (from requests->azure-storage-blob==0.37.1) (2.8)\n",
      "Requirement already satisfied: certifi>=2017.4.17 in /opt/conda/lib/python3.7/site-packages (from requests->azure-storage-blob==0.37.1) (2019.11.28)\n",
      "Requirement already satisfied: six>=1.5 in /opt/conda/lib/python3.7/site-packages (from python-dateutil->azure-storage-blob==0.37.1) (1.13.0)\n",
      "Requirement already satisfied: cffi!=1.11.3,>=1.8 in /opt/conda/lib/python3.7/site-packages (from cryptography->azure-storage-blob==0.37.1) (1.13.2)\n",
      "Requirement already satisfied: azure-nspkg>=2.0.0 in /opt/conda/lib/python3.7/site-packages (from azure-storage-nspkg>=2.0.0->azure-storage-blob==0.37.1) (3.0.2)\n",
      "Requirement already satisfied: pycparser in /opt/conda/lib/python3.7/site-packages (from cffi!=1.11.3,>=1.8->cryptography->azure-storage-blob==0.37.1) (2.19)\n",
      "Installing collected packages: azure-storage-nspkg, futures, azure-storage-common, azure-storage-blob\n",
      "  Found existing installation: azure-storage-common 2.1.0\n",
      "    Uninstalling azure-storage-common-2.1.0:\n",
      "      Successfully uninstalled azure-storage-common-2.1.0\n",
      "Successfully installed azure-storage-blob-0.37.1 azure-storage-common-0.37.1 azure-storage-nspkg-3.1.0 futures-3.1.1\n"
     ]
    }
   ],
   "source": [
    "!pip install azure-storage-blob==0.37.1"
   ]
  },
  {
   "cell_type": "code",
   "execution_count": 6,
   "metadata": {},
   "outputs": [
    {
     "name": "stdout",
     "output_type": "stream",
     "text": [
      "\"DefaultEndpointsProtocol=https;AccountName=santoshgsk;AccountKey=+j79npiEz7tb12Y0pkjrYJzu7pSSXqunfwNkcRqwI7P+Zx4tBqCKYIYkaUizR7Fcfd/5mlgmwNrkrGuShfAtTw==;EndpointSuffix=core.windows.net\"\r\n"
     ]
    }
   ],
   "source": [
    "!echo $AZURE_STORAGE_CONNECTION_STRING"
   ]
  },
  {
   "cell_type": "code",
   "execution_count": 17,
   "metadata": {},
   "outputs": [
    {
     "ename": "ImportError",
     "evalue": "cannot import name 'BlobServiceClient' from 'azure.storage.blob' (/opt/conda/lib/python3.7/site-packages/azure/storage/blob/__init__.py)",
     "output_type": "error",
     "traceback": [
      "\u001b[0;31m---------------------------------------------------------------------------\u001b[0m",
      "\u001b[0;31mImportError\u001b[0m                               Traceback (most recent call last)",
      "\u001b[0;32m<ipython-input-17-ef89689af238>\u001b[0m in \u001b[0;36m<module>\u001b[0;34m\u001b[0m\n\u001b[1;32m      1\u001b[0m \u001b[0;32mimport\u001b[0m \u001b[0mos\u001b[0m\u001b[0;34m,\u001b[0m \u001b[0muuid\u001b[0m\u001b[0;34m\u001b[0m\u001b[0;34m\u001b[0m\u001b[0m\n\u001b[0;32m----> 2\u001b[0;31m \u001b[0;32mfrom\u001b[0m \u001b[0mazure\u001b[0m\u001b[0;34m.\u001b[0m\u001b[0mstorage\u001b[0m\u001b[0;34m.\u001b[0m\u001b[0mblob\u001b[0m \u001b[0;32mimport\u001b[0m \u001b[0mBlobServiceClient\u001b[0m\u001b[0;34m,\u001b[0m \u001b[0mBlobClient\u001b[0m\u001b[0;34m,\u001b[0m \u001b[0mContainerClient\u001b[0m\u001b[0;34m\u001b[0m\u001b[0;34m\u001b[0m\u001b[0m\n\u001b[0m\u001b[1;32m      3\u001b[0m \u001b[0mconnect_str\u001b[0m \u001b[0;34m=\u001b[0m \u001b[0mos\u001b[0m\u001b[0;34m.\u001b[0m\u001b[0mgetenv\u001b[0m\u001b[0;34m(\u001b[0m\u001b[0;34m'AZURE_STORAGE_CONNECTION_STRING'\u001b[0m\u001b[0;34m)\u001b[0m\u001b[0;34m\u001b[0m\u001b[0;34m\u001b[0m\u001b[0m\n",
      "\u001b[0;31mImportError\u001b[0m: cannot import name 'BlobServiceClient' from 'azure.storage.blob' (/opt/conda/lib/python3.7/site-packages/azure/storage/blob/__init__.py)"
     ]
    }
   ],
   "source": [
    "import os, uuid\n",
    "from azure.storage.blob import BlobServiceClient, BlobClient, ContainerClient\n",
    "connect_str = os.getenv('AZURE_STORAGE_CONNECTION_STRING')"
   ]
  },
  {
   "cell_type": "code",
   "execution_count": 9,
   "metadata": {},
   "outputs": [],
   "source": [
    "import azure.storage.blob as blob"
   ]
  },
  {
   "cell_type": "code",
   "execution_count": 10,
   "metadata": {},
   "outputs": [
    {
     "data": {
      "text/plain": [
       "<function BlobBlock.mro()>"
      ]
     },
     "execution_count": 10,
     "metadata": {},
     "output_type": "execute_result"
    }
   ],
   "source": [
    "blob.BlobBlock.mro"
   ]
  },
  {
   "cell_type": "code",
   "execution_count": 22,
   "metadata": {},
   "outputs": [
    {
     "name": "stdout",
     "output_type": "stream",
     "text": [
      "env: AZURE_STORAGE_CONNECTION_STRING=\"DefaultEndpointsProtocol=https;AccountName=santoshgsk;AccountKey=+j79npiEz7tb12Y0pkjrYJzu7pSSXqunfwNkcRqwI7P+Zx4tBqCKYIYkaUizR7Fcfd/5mlgmwNrkrGuShfAtTw==;EndpointSuffix=core.windows.net\"\n"
     ]
    }
   ],
   "source": []
  },
  {
   "cell_type": "code",
   "execution_count": 20,
   "metadata": {},
   "outputs": [],
   "source": []
  },
  {
   "cell_type": "code",
   "execution_count": 23,
   "metadata": {},
   "outputs": [],
   "source": [
    "from azure.storage.blob import BlockBlobService, PublicAccess\n",
    "%env AZURE_STORAGE_CONNECTION_STRING=\"DefaultEndpointsProtocol=https;AccountName=santoshgsk;AccountKey=+j79npiEz7tb12Y0pkjrYJzu7pSSXqunfwNkcRqwI7P+Zx4tBqCKYIYkaUizR7Fcfd/5mlgmwNrkrGuShfAtTw==;EndpointSuffix=core.windows.net\"\n",
    "blob_service_client = BlockBlobService(account_name='santoshgsk', account_key='+j79npiEz7tb12Y0pkjrYJzu7pSSXqunfwNkcRqwI7P+Zx4tBqCKYIYkaUizR7Fcfd/5mlgmwNrkrGuShfAtTw==')\n",
    "container_name = 'olist-files'\n",
    "blob_service_client.set_container_acl(container_name, public_access=PublicAccess.Container)\n",
    "blob_service_client.create_blob_from_path(container_name, 'olist_customers_dataset.csv', 'datasets/brazilian-ecommerce/olist_customers_dataset.csv')"
   ]
  },
  {
   "cell_type": "code",
   "execution_count": null,
   "metadata": {},
   "outputs": [],
   "source": [
    "container_name = 'quickstartblobs'\n",
    "blob_service_client.create_container(container_name)"
   ]
  },
  {
   "cell_type": "code",
   "execution_count": 24,
   "metadata": {},
   "outputs": [
    {
     "data": {
      "text/plain": [
       "<azure.storage.blob.models.ResourceProperties at 0x7f6d18452fd0>"
      ]
     },
     "execution_count": 24,
     "metadata": {},
     "output_type": "execute_result"
    }
   ],
   "source": []
  },
  {
   "cell_type": "code",
   "execution_count": 25,
   "metadata": {},
   "outputs": [
    {
     "name": "stdout",
     "output_type": "stream",
     "text": [
      "ls: cannot access '../dataset': No such file or directory\r\n"
     ]
    }
   ],
   "source": [
    "!ls datasets/brazilian-ecommerce/"
   ]
  },
  {
   "cell_type": "code",
   "execution_count": 26,
   "metadata": {},
   "outputs": [
    {
     "data": {
      "text/plain": [
       "<azure.storage.blob.models.ResourceProperties at 0x7f6d18aeefd0>"
      ]
     },
     "execution_count": 26,
     "metadata": {},
     "output_type": "execute_result"
    }
   ],
   "source": []
  },
  {
   "cell_type": "code",
   "execution_count": null,
   "metadata": {},
   "outputs": [],
   "source": []
  }
 ],
 "metadata": {
  "kernelspec": {
   "display_name": "Python 3",
   "language": "python",
   "name": "python3"
  },
  "language_info": {
   "codemirror_mode": {
    "name": "ipython",
    "version": 3
   },
   "file_extension": ".py",
   "mimetype": "text/x-python",
   "name": "python",
   "nbconvert_exporter": "python",
   "pygments_lexer": "ipython3",
   "version": "3.7.3"
  }
 },
 "nbformat": 4,
 "nbformat_minor": 2
}
